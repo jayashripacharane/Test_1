{
 "cells": [
  {
   "cell_type": "code",
   "execution_count": 1,
   "id": "2d010c3d-7163-40f8-aa8e-1ff7c8a871b1",
   "metadata": {},
   "outputs": [
    {
     "data": {
      "text/plain": [
       "8"
      ]
     },
     "execution_count": 1,
     "metadata": {},
     "output_type": "execute_result"
    }
   ],
   "source": [
    "5+3"
   ]
  },
  {
   "cell_type": "code",
   "execution_count": 2,
   "id": "38f23bae-ec70-4818-9a26-498d93b47910",
   "metadata": {},
   "outputs": [
    {
     "data": {
      "text/plain": [
       "14"
      ]
     },
     "execution_count": 2,
     "metadata": {},
     "output_type": "execute_result"
    }
   ],
   "source": [
    "5+9"
   ]
  },
  {
   "cell_type": "code",
   "execution_count": 3,
   "id": "76375299-7d19-4d47-95b4-54c3971e923a",
   "metadata": {},
   "outputs": [
    {
     "data": {
      "text/plain": [
       "'C:\\\\Users\\\\DELL\\\\Music'"
      ]
     },
     "execution_count": 3,
     "metadata": {},
     "output_type": "execute_result"
    }
   ],
   "source": [
    "pwd"
   ]
  },
  {
   "cell_type": "code",
   "execution_count": 4,
   "id": "d2f2e0af-40f2-4bce-ac06-76b972eb025f",
   "metadata": {},
   "outputs": [
    {
     "data": {
      "text/plain": [
       "9"
      ]
     },
     "execution_count": 4,
     "metadata": {},
     "output_type": "execute_result"
    }
   ],
   "source": [
    "6+3"
   ]
  },
  {
   "cell_type": "code",
   "execution_count": 5,
   "id": "7ee4290a-0d64-49f0-bde6-1e944e292d05",
   "metadata": {},
   "outputs": [
    {
     "data": {
      "text/plain": [
       "5"
      ]
     },
     "execution_count": 5,
     "metadata": {},
     "output_type": "execute_result"
    }
   ],
   "source": [
    "a=5\n",
    "a"
   ]
  },
  {
   "cell_type": "code",
   "execution_count": 6,
   "id": "394e7d5a-e717-4c41-9c29-902bd198b2d8",
   "metadata": {},
   "outputs": [
    {
     "data": {
      "text/plain": [
       "5"
      ]
     },
     "execution_count": 6,
     "metadata": {},
     "output_type": "execute_result"
    }
   ],
   "source": [
    "a"
   ]
  },
  {
   "cell_type": "code",
   "execution_count": 7,
   "id": "d4cab27b-d9b2-4675-92b7-e7db7c2d55c1",
   "metadata": {},
   "outputs": [
    {
     "name": "stdout",
     "output_type": "stream",
     "text": [
      "5\n"
     ]
    }
   ],
   "source": [
    "print(a)"
   ]
  },
  {
   "cell_type": "markdown",
   "id": "0433db0d-1b29-4f9d-a385-338ea5a644b4",
   "metadata": {},
   "source": [
    "# This is my first level heading"
   ]
  },
  {
   "cell_type": "code",
   "execution_count": 9,
   "id": "87186d05-2258-4cd8-977f-cde8be24c08a",
   "metadata": {},
   "outputs": [
    {
     "data": {
      "text/plain": [
       "'def'"
      ]
     },
     "execution_count": 9,
     "metadata": {},
     "output_type": "execute_result"
    }
   ],
   "source": [
    "b='def'\n",
    "b"
   ]
  },
  {
   "cell_type": "code",
   "execution_count": 10,
   "id": "4eb73439-2d08-43fe-ab97-176cc5471aa6",
   "metadata": {},
   "outputs": [
    {
     "name": "stdout",
     "output_type": "stream",
     "text": [
      "def\n"
     ]
    }
   ],
   "source": [
    "print (b)"
   ]
  },
  {
   "cell_type": "code",
   "execution_count": 11,
   "id": "d67e5e70-f7f7-48c0-896e-9df3a5701340",
   "metadata": {},
   "outputs": [
    {
     "name": "stdout",
     "output_type": "stream",
     "text": [
      "b\n"
     ]
    }
   ],
   "source": [
    "print(\"b\")"
   ]
  },
  {
   "cell_type": "code",
   "execution_count": 12,
   "id": "f8813664-8597-4435-a8d8-73a89531a638",
   "metadata": {},
   "outputs": [
    {
     "data": {
      "text/plain": [
       "'CAT'"
      ]
     },
     "execution_count": 12,
     "metadata": {},
     "output_type": "execute_result"
    }
   ],
   "source": [
    "c='CAT'\n",
    "c"
   ]
  },
  {
   "cell_type": "code",
   "execution_count": 14,
   "id": "e4118239-0ae7-4414-8c96-490e2ec817e0",
   "metadata": {},
   "outputs": [
    {
     "data": {
      "text/plain": [
       "6.95"
      ]
     },
     "execution_count": 14,
     "metadata": {},
     "output_type": "execute_result"
    }
   ],
   "source": [
    "a=6.95\n",
    "a"
   ]
  },
  {
   "cell_type": "code",
   "execution_count": null,
   "id": "daf22828-8cf5-4fbf-9b58-cca33f9a33d8",
   "metadata": {},
   "outputs": [],
   "source": []
  },
  {
   "cell_type": "code",
   "execution_count": 15,
   "id": "4c8c2828-54bf-46be-a878-9be78acf55c6",
   "metadata": {},
   "outputs": [
    {
     "name": "stdout",
     "output_type": "stream",
     "text": [
      "170\n"
     ]
    }
   ],
   "source": [
    "x=70\n",
    "y=100\n",
    "print(x+y)\n",
    "# This logic of addition of 2 variables"
   ]
  },
  {
   "cell_type": "code",
   "execution_count": 19,
   "id": "29caab7e-9929-434e-98cb-1b09ae89f360",
   "metadata": {},
   "outputs": [
    {
     "data": {
      "text/plain": [
       "170"
      ]
     },
     "execution_count": 19,
     "metadata": {},
     "output_type": "execute_result"
    }
   ],
   "source": [
    "x+y"
   ]
  },
  {
   "cell_type": "markdown",
   "id": "028ea8db-a6d5-4a75-a7bd-596b54d53ff8",
   "metadata": {},
   "source": [
    "# iam doing my class today"
   ]
  },
  {
   "cell_type": "code",
   "execution_count": 17,
   "id": "bcd14e53-2266-4887-9c24-a73ce847cce6",
   "metadata": {},
   "outputs": [
    {
     "data": {
      "text/plain": [
       "79"
      ]
     },
     "execution_count": 17,
     "metadata": {},
     "output_type": "execute_result"
    }
   ],
   "source": [
    "a=75\n",
    "b=4\n",
    "sum1 = a+b\n",
    "sum1"
   ]
  },
  {
   "cell_type": "code",
   "execution_count": 18,
   "id": "703e06ea-1a37-44fa-be7e-954c569ec85c",
   "metadata": {},
   "outputs": [],
   "source": [
    "#This is just code written by jayashri"
   ]
  },
  {
   "cell_type": "code",
   "execution_count": 20,
   "id": "6f5c50d2-9e67-4b84-9dfe-ae810bb3ae49",
   "metadata": {},
   "outputs": [],
   "source": [
    "# This code is written by jayu"
   ]
  },
  {
   "cell_type": "code",
   "execution_count": 21,
   "id": "bdc2de7b-0c60-4355-90c1-a6be2f60dcba",
   "metadata": {},
   "outputs": [
    {
     "data": {
      "text/plain": [
       "'\\ndate:04/05/2024\\nwritten by:jayu\\npurpose:adding to\\n'"
      ]
     },
     "execution_count": 21,
     "metadata": {},
     "output_type": "execute_result"
    }
   ],
   "source": [
    "'''\n",
    "date:04/05/2024\n",
    "written by:jayu\n",
    "purpose:adding to\n",
    "'''"
   ]
  },
  {
   "cell_type": "code",
   "execution_count": 26,
   "id": "2bea6d70-615b-4766-abb3-ecc193d14642",
   "metadata": {},
   "outputs": [
    {
     "name": "stdout",
     "output_type": "stream",
     "text": [
      "sum of 2 variables is: 13\n"
     ]
    }
   ],
   "source": [
    "print(\"sum of 2 variables is:\",a+b)"
   ]
  },
  {
   "cell_type": "code",
   "execution_count": 25,
   "id": "634f5fba-ad6c-405c-9171-f8fb9f47875e",
   "metadata": {},
   "outputs": [
    {
     "name": "stdout",
     "output_type": "stream",
     "text": [
      "13\n"
     ]
    }
   ],
   "source": [
    "print(a+b)"
   ]
  },
  {
   "cell_type": "code",
   "execution_count": null,
   "id": "3cb96b22-7112-401e-ae29-bba8c8428b98",
   "metadata": {},
   "outputs": [],
   "source": []
  },
  {
   "cell_type": "code",
   "execution_count": 1,
   "id": "e61d1c08-df10-4f7e-981b-c72843af5532",
   "metadata": {},
   "outputs": [
    {
     "data": {
      "text/plain": [
       "13"
      ]
     },
     "execution_count": 1,
     "metadata": {},
     "output_type": "execute_result"
    }
   ],
   "source": [
    "a=8\n",
    "b=5\n",
    "a+b"
   ]
  },
  {
   "cell_type": "code",
   "execution_count": null,
   "id": "104a1e34-6f69-44d5-959b-a85d06f49ad3",
   "metadata": {},
   "outputs": [],
   "source": []
  },
  {
   "cell_type": "code",
   "execution_count": 2,
   "id": "097a53b4-2e78-4966-90b6-dab110f73751",
   "metadata": {},
   "outputs": [],
   "source": [
    "### ARITHMETIC OPERATORS:-"
   ]
  },
  {
   "cell_type": "code",
   "execution_count": 3,
   "id": "ff6227c6-f2f8-4c91-af86-4085722738dd",
   "metadata": {},
   "outputs": [
    {
     "data": {
      "text/plain": [
       "150"
      ]
     },
     "execution_count": 3,
     "metadata": {},
     "output_type": "execute_result"
    }
   ],
   "source": [
    "a=10\n",
    "b=15\n",
    "a*b"
   ]
  },
  {
   "cell_type": "code",
   "execution_count": null,
   "id": "6ed4738b-406f-448f-ae17-686e12daaa3b",
   "metadata": {},
   "outputs": [],
   "source": []
  },
  {
   "cell_type": "code",
   "execution_count": 4,
   "id": "16b38fb9-f3db-45c5-8c9d-3d6bb293fa95",
   "metadata": {},
   "outputs": [],
   "source": [
    "###Comparision Operator:-\n"
   ]
  },
  {
   "cell_type": "code",
   "execution_count": 5,
   "id": "e1a74620-e8cd-4550-8bb0-0ec42a61da28",
   "metadata": {},
   "outputs": [
    {
     "name": "stdout",
     "output_type": "stream",
     "text": [
      "True\n"
     ]
    }
   ],
   "source": [
    "a=10\n",
    "b=8\n",
    "print(a!=b)"
   ]
  },
  {
   "cell_type": "code",
   "execution_count": null,
   "id": "6baa2800-e1b1-49f0-935a-7aabdba53368",
   "metadata": {},
   "outputs": [],
   "source": []
  },
  {
   "cell_type": "code",
   "execution_count": 6,
   "id": "fbd10101-d216-49d3-8f50-d3776d6a0a8c",
   "metadata": {},
   "outputs": [],
   "source": [
    "## Assignment Operators:-"
   ]
  },
  {
   "cell_type": "code",
   "execution_count": 7,
   "id": "3a10b15d-8faf-44f3-be06-b355ed3499cd",
   "metadata": {},
   "outputs": [
    {
     "name": "stdout",
     "output_type": "stream",
     "text": [
      "31\n"
     ]
    }
   ],
   "source": [
    "a=20\n",
    "b=11\n",
    "c=a+b\n",
    "print(c)"
   ]
  },
  {
   "cell_type": "code",
   "execution_count": 8,
   "id": "9646c156-b9f7-49ea-b001-4307f12886d2",
   "metadata": {},
   "outputs": [
    {
     "name": "stdout",
     "output_type": "stream",
     "text": [
      "71\n"
     ]
    }
   ],
   "source": [
    "c+=a\n",
    "c=c+a\n",
    "print(c)"
   ]
  },
  {
   "cell_type": "code",
   "execution_count": 9,
   "id": "2cdd8c94-6778-4a75-b1a0-8e7a828cd449",
   "metadata": {},
   "outputs": [
    {
     "name": "stdout",
     "output_type": "stream",
     "text": [
      "28400\n"
     ]
    }
   ],
   "source": [
    "c *= a\n",
    "c=c*a\n",
    "print(c)"
   ]
  },
  {
   "cell_type": "code",
   "execution_count": 10,
   "id": "d0829bff-c435-449b-a512-876f7fea2493",
   "metadata": {},
   "outputs": [
    {
     "name": "stdout",
     "output_type": "stream",
     "text": [
      "2\n"
     ]
    }
   ],
   "source": [
    "a=4\n",
    "c=10\n",
    "c %=a\n",
    "print(c)"
   ]
  },
  {
   "cell_type": "code",
   "execution_count": null,
   "id": "2e63211e-b5af-41bf-b554-599bb184b809",
   "metadata": {},
   "outputs": [],
   "source": []
  },
  {
   "cell_type": "code",
   "execution_count": 11,
   "id": "48a558fc-9455-49ac-bbd1-94193c50d449",
   "metadata": {},
   "outputs": [],
   "source": [
    "## Logical Operator:-(and,or,not):-"
   ]
  },
  {
   "cell_type": "code",
   "execution_count": 12,
   "id": "10b6228b-c014-4831-8840-306e6005a930",
   "metadata": {},
   "outputs": [
    {
     "name": "stdout",
     "output_type": "stream",
     "text": [
      "False\n"
     ]
    }
   ],
   "source": [
    "x=5\n",
    "y=6\n",
    "print(x<3)"
   ]
  },
  {
   "cell_type": "code",
   "execution_count": 13,
   "id": "fd02e2f7-b187-4744-bc5d-7fa8b9915b5a",
   "metadata": {},
   "outputs": [
    {
     "name": "stdout",
     "output_type": "stream",
     "text": [
      "False\n"
     ]
    }
   ],
   "source": [
    "x=2\n",
    "y=6\n",
    "print(x>3 and y<7)"
   ]
  },
  {
   "cell_type": "code",
   "execution_count": 18,
   "id": "6dc38652-fd0a-4ea1-a150-4bdab4d4cb4e",
   "metadata": {},
   "outputs": [
    {
     "name": "stdout",
     "output_type": "stream",
     "text": [
      "False\n",
      "True\n"
     ]
    }
   ],
   "source": [
    "a=True\n",
    "b=False\n",
    "\n",
    "# print a and b is false\n",
    "print (a and b)\n",
    "# print a or b is True\n",
    "print (a or b)\n",
    "\n",
    "# print a not b is false\n",
    "\n"
   ]
  },
  {
   "cell_type": "code",
   "execution_count": null,
   "id": "f2f8ddc2-7a55-42da-984e-ec3b58c3468c",
   "metadata": {},
   "outputs": [],
   "source": []
  },
  {
   "cell_type": "code",
   "execution_count": 19,
   "id": "f334a3a1-998b-436f-865d-24dce1b2ab62",
   "metadata": {},
   "outputs": [],
   "source": [
    "## Membership Operator:-(in,not in):-"
   ]
  },
  {
   "cell_type": "code",
   "execution_count": 20,
   "id": "27ab1793-9015-467e-b9fa-449d4ca610ba",
   "metadata": {},
   "outputs": [
    {
     "name": "stdout",
     "output_type": "stream",
     "text": [
      "False\n"
     ]
    }
   ],
   "source": [
    "x='IIT Academy'\n",
    "print('cad'not in x)"
   ]
  },
  {
   "cell_type": "code",
   "execution_count": null,
   "id": "031817e7-0919-4f52-9d92-c78f6fd244a2",
   "metadata": {},
   "outputs": [],
   "source": []
  },
  {
   "cell_type": "code",
   "execution_count": 21,
   "id": "e5e69fc6-889a-4839-baa7-dfaa58310e9e",
   "metadata": {},
   "outputs": [],
   "source": [
    "## Identity operator:-(is,is not)"
   ]
  },
  {
   "cell_type": "code",
   "execution_count": 22,
   "id": "ffd947c6-5c85-436b-87ab-ef082aecfa04",
   "metadata": {},
   "outputs": [
    {
     "name": "stdout",
     "output_type": "stream",
     "text": [
      "True\n"
     ]
    }
   ],
   "source": [
    "a1=4\n",
    "b1=4\n",
    "print(a1 is b1)"
   ]
  },
  {
   "cell_type": "code",
   "execution_count": null,
   "id": "c4d43dae-ed11-433c-9f66-a130f7098924",
   "metadata": {},
   "outputs": [],
   "source": []
  },
  {
   "cell_type": "markdown",
   "id": "f8235ab8-4f15-4726-9052-e4e374ba068f",
   "metadata": {},
   "source": [
    "# Datetime libraries:-"
   ]
  },
  {
   "cell_type": "code",
   "execution_count": 30,
   "id": "8157c6de-eb7d-4177-8560-bc4b9178b656",
   "metadata": {},
   "outputs": [],
   "source": [
    "#Dealing with Dates\n",
    "import datetime as dt"
   ]
  },
  {
   "cell_type": "code",
   "execution_count": 31,
   "id": "4a74efc1-45de-400b-a89d-21f4f6b63368",
   "metadata": {},
   "outputs": [
    {
     "data": {
      "text/plain": [
       "datetime.datetime(2024, 5, 5, 20, 17, 10, 308089)"
      ]
     },
     "execution_count": 31,
     "metadata": {},
     "output_type": "execute_result"
    }
   ],
   "source": [
    "dt.datetime.now()"
   ]
  },
  {
   "cell_type": "code",
   "execution_count": null,
   "id": "e752b134-3ff5-4c3b-ac12-09930c256746",
   "metadata": {},
   "outputs": [],
   "source": [
    "dt."
   ]
  },
  {
   "cell_type": "code",
   "execution_count": 32,
   "id": "81a51e0d-b8e2-4c0f-abc8-e62ecf1974c8",
   "metadata": {},
   "outputs": [
    {
     "data": {
      "text/plain": [
       "datetime.datetime(2024, 5, 5, 20, 19, 29, 792989)"
      ]
     },
     "execution_count": 32,
     "metadata": {},
     "output_type": "execute_result"
    }
   ],
   "source": [
    "# Microseconds\n",
    "dt.datetime.now()"
   ]
  },
  {
   "cell_type": "code",
   "execution_count": 33,
   "id": "196fcf91-dfbe-4230-99cf-c8706c0405f5",
   "metadata": {},
   "outputs": [
    {
     "data": {
      "text/plain": [
       "datetime.datetime(2024, 5, 5, 20, 21, 2, 223542)"
      ]
     },
     "execution_count": 33,
     "metadata": {},
     "output_type": "execute_result"
    }
   ],
   "source": [
    "current_datetime = dt.datetime.now()\n",
    "current_datetime"
   ]
  },
  {
   "cell_type": "code",
   "execution_count": null,
   "id": "1ebffe0e-f6af-467b-8a60-aaba3ce6a406",
   "metadata": {},
   "outputs": [],
   "source": []
  },
  {
   "cell_type": "code",
   "execution_count": 40,
   "id": "a3d50d49-1867-4719-af97-0a687b9f9473",
   "metadata": {},
   "outputs": [
    {
     "name": "stdout",
     "output_type": "stream",
     "text": [
      "2024-05-05 20:46:24.535988\n"
     ]
    }
   ],
   "source": [
    "#strftime - convert Date into string format\n",
    "now = dt.datetime.now()\n",
    "print(now)"
   ]
  },
  {
   "cell_type": "code",
   "execution_count": null,
   "id": "91eb64ad-d701-4fcf-8bcf-f75ade0e4408",
   "metadata": {},
   "outputs": [],
   "source": []
  },
  {
   "cell_type": "code",
   "execution_count": null,
   "id": "ce243211-b4fe-4af3-8c63-4f4092011f21",
   "metadata": {},
   "outputs": [],
   "source": [
    "now."
   ]
  },
  {
   "cell_type": "code",
   "execution_count": null,
   "id": "93106d98-f9d0-4919-aa91-6b57f1c30dfd",
   "metadata": {},
   "outputs": [],
   "source": []
  },
  {
   "cell_type": "code",
   "execution_count": 34,
   "id": "affcc966-893e-40eb-8eb3-2b7cda46184b",
   "metadata": {},
   "outputs": [],
   "source": [
    "## Data Types :-"
   ]
  },
  {
   "cell_type": "code",
   "execution_count": 35,
   "id": "6cffcc47-c3f8-4233-85ee-a56e306ba23c",
   "metadata": {},
   "outputs": [
    {
     "data": {
      "text/plain": [
       "5.5"
      ]
     },
     "execution_count": 35,
     "metadata": {},
     "output_type": "execute_result"
    }
   ],
   "source": [
    "a=5.5\n",
    "a"
   ]
  },
  {
   "cell_type": "code",
   "execution_count": 36,
   "id": "96c4c22e-0415-4865-82e5-35d3c8d115dc",
   "metadata": {},
   "outputs": [
    {
     "data": {
      "text/plain": [
       "float"
      ]
     },
     "execution_count": 36,
     "metadata": {},
     "output_type": "execute_result"
    }
   ],
   "source": [
    "type(a)"
   ]
  },
  {
   "cell_type": "code",
   "execution_count": 38,
   "id": "5e6820c5-4c37-4627-8388-feab4deb7a73",
   "metadata": {},
   "outputs": [
    {
     "data": {
      "text/plain": [
       "True"
      ]
     },
     "execution_count": 38,
     "metadata": {},
     "output_type": "execute_result"
    }
   ],
   "source": [
    "a=True\n",
    "a"
   ]
  },
  {
   "cell_type": "code",
   "execution_count": 39,
   "id": "806b845b-63ff-4291-a818-0397294ca879",
   "metadata": {},
   "outputs": [
    {
     "data": {
      "text/plain": [
       "bool"
      ]
     },
     "execution_count": 39,
     "metadata": {},
     "output_type": "execute_result"
    }
   ],
   "source": [
    "type(a)"
   ]
  },
  {
   "cell_type": "markdown",
   "id": "c8181cdc-aeac-40cc-b1a2-1f628d79671f",
   "metadata": {},
   "source": [
    "# 1.Strings:-"
   ]
  },
  {
   "cell_type": "raw",
   "id": "adddafd9-268f-4d31-9c81-223aa5813986",
   "metadata": {},
   "source": [
    "creating a string 1)string in inverted commas 2)function 'str'"
   ]
  },
  {
   "cell_type": "code",
   "execution_count": 43,
   "id": "5bc7756e-a904-4e3f-bb13-a987878dc136",
   "metadata": {},
   "outputs": [
    {
     "data": {
      "text/plain": [
       "'90'"
      ]
     },
     "execution_count": 43,
     "metadata": {},
     "output_type": "execute_result"
    }
   ],
   "source": [
    "s=\"90\"\n",
    "s"
   ]
  },
  {
   "cell_type": "code",
   "execution_count": 44,
   "id": "ca7e6c7e-1d0b-44f5-93c4-87d0304e3b21",
   "metadata": {},
   "outputs": [
    {
     "data": {
      "text/plain": [
       "'republic'"
      ]
     },
     "execution_count": 44,
     "metadata": {},
     "output_type": "execute_result"
    }
   ],
   "source": [
    "s=str('republic')\n",
    "s"
   ]
  },
  {
   "cell_type": "code",
   "execution_count": 45,
   "id": "5d1fcda3-6030-49d5-8a97-746dfce06b98",
   "metadata": {},
   "outputs": [
    {
     "data": {
      "text/plain": [
       "str"
      ]
     },
     "execution_count": 45,
     "metadata": {},
     "output_type": "execute_result"
    }
   ],
   "source": [
    "type(s)"
   ]
  },
  {
   "cell_type": "markdown",
   "id": "ef122711-4a90-4f31-813c-ada906062339",
   "metadata": {},
   "source": [
    "## Indexing:-"
   ]
  },
  {
   "cell_type": "code",
   "execution_count": 46,
   "id": "230b5659-2aa2-4099-ba91-a928983da866",
   "metadata": {},
   "outputs": [
    {
     "data": {
      "text/plain": [
       "'t'"
      ]
     },
     "execution_count": 46,
     "metadata": {},
     "output_type": "execute_result"
    }
   ],
   "source": [
    "s='python for data science'\n",
    "s[2]"
   ]
  },
  {
   "cell_type": "code",
   "execution_count": 47,
   "id": "f0dc1fba-9ebb-4c2f-aa49-bfe4063458d1",
   "metadata": {},
   "outputs": [
    {
     "data": {
      "text/plain": [
       "' '"
      ]
     },
     "execution_count": 47,
     "metadata": {},
     "output_type": "execute_result"
    }
   ],
   "source": [
    "s[6]"
   ]
  },
  {
   "cell_type": "code",
   "execution_count": 48,
   "id": "1f510962-4a09-436c-9720-0c3e6786b67a",
   "metadata": {},
   "outputs": [
    {
     "data": {
      "text/plain": [
       "'c'"
      ]
     },
     "execution_count": 48,
     "metadata": {},
     "output_type": "execute_result"
    }
   ],
   "source": [
    "s[-2]"
   ]
  },
  {
   "cell_type": "markdown",
   "id": "fb114018-fe2b-4517-8760-c852f466959c",
   "metadata": {},
   "source": [
    "## Slicing:-"
   ]
  },
  {
   "cell_type": "raw",
   "id": "f217ebe9-f24c-422d-9a0a-7ff534441029",
   "metadata": {},
   "source": [
    "start is included and end is not included"
   ]
  },
  {
   "cell_type": "code",
   "execution_count": 49,
   "id": "93ce83b7-3619-4f2d-bf00-d66c318b6e92",
   "metadata": {},
   "outputs": [
    {
     "data": {
      "text/plain": [
       "'pto '"
      ]
     },
     "execution_count": 49,
     "metadata": {},
     "output_type": "execute_result"
    }
   ],
   "source": [
    "s[0:7:2]"
   ]
  },
  {
   "cell_type": "code",
   "execution_count": 50,
   "id": "538351a9-d98f-4949-b1b9-e99959968a68",
   "metadata": {},
   "outputs": [
    {
     "data": {
      "text/plain": [
       "'python'"
      ]
     },
     "execution_count": 50,
     "metadata": {},
     "output_type": "execute_result"
    }
   ],
   "source": [
    "s[0:6]"
   ]
  },
  {
   "cell_type": "code",
   "execution_count": 51,
   "id": "1ab4ea36-bb1d-49a5-a5d1-84cc6f3d6895",
   "metadata": {},
   "outputs": [
    {
     "data": {
      "text/plain": [
       "'thon'"
      ]
     },
     "execution_count": 51,
     "metadata": {},
     "output_type": "execute_result"
    }
   ],
   "source": [
    "s[2:6]"
   ]
  },
  {
   "cell_type": "code",
   "execution_count": 53,
   "id": "6f59b2f7-47f4-41dc-9cbd-baa94e4531fd",
   "metadata": {},
   "outputs": [
    {
     "data": {
      "text/plain": [
       "'pyth'"
      ]
     },
     "execution_count": 53,
     "metadata": {},
     "output_type": "execute_result"
    }
   ],
   "source": [
    "s[:4]"
   ]
  },
  {
   "cell_type": "code",
   "execution_count": 54,
   "id": "9b54a280-678b-427e-b3bf-ae1277fb8da6",
   "metadata": {},
   "outputs": [
    {
     "data": {
      "text/plain": [
       "'on for data science'"
      ]
     },
     "execution_count": 54,
     "metadata": {},
     "output_type": "execute_result"
    }
   ],
   "source": [
    "s[4:]"
   ]
  },
  {
   "cell_type": "code",
   "execution_count": 55,
   "id": "c79b323f-dea0-4864-909a-884d2f29132a",
   "metadata": {},
   "outputs": [
    {
     "data": {
      "text/plain": [
       "'o o aasine'"
      ]
     },
     "execution_count": 55,
     "metadata": {},
     "output_type": "execute_result"
    }
   ],
   "source": [
    "s[4::2]"
   ]
  },
  {
   "cell_type": "code",
   "execution_count": 56,
   "id": "14957662-592e-46e0-ba60-32f87b98454f",
   "metadata": {},
   "outputs": [
    {
     "data": {
      "text/plain": [
       "'python for data science'"
      ]
     },
     "execution_count": 56,
     "metadata": {},
     "output_type": "execute_result"
    }
   ],
   "source": [
    "s[::]"
   ]
  },
  {
   "cell_type": "code",
   "execution_count": 58,
   "id": "d0c4c846-c528-4162-a0e8-e838dd91dcaf",
   "metadata": {},
   "outputs": [
    {
     "data": {
      "text/plain": [
       "'ecneics atad rof nohtyp'"
      ]
     },
     "execution_count": 58,
     "metadata": {},
     "output_type": "execute_result"
    }
   ],
   "source": [
    "s='python for data science'   ## vimp interview question ## how to revert string\n",
    "s[::-1]"
   ]
  },
  {
   "cell_type": "code",
   "execution_count": 59,
   "id": "549a3800-58cf-4320-9db5-c8d94cdf13db",
   "metadata": {},
   "outputs": [
    {
     "data": {
      "text/plain": [
       "'c'"
      ]
     },
     "execution_count": 59,
     "metadata": {},
     "output_type": "execute_result"
    }
   ],
   "source": [
    "s[-6]"
   ]
  },
  {
   "cell_type": "code",
   "execution_count": 60,
   "id": "1d725b92-7d07-4d1b-a88e-dede258b5dea",
   "metadata": {},
   "outputs": [
    {
     "data": {
      "text/plain": [
       "'ecneics atad rof nohtyp'"
      ]
     },
     "execution_count": 60,
     "metadata": {},
     "output_type": "execute_result"
    }
   ],
   "source": [
    "s[::-1]"
   ]
  },
  {
   "cell_type": "code",
   "execution_count": 61,
   "id": "8f4dd685-0dae-4ead-b2fb-7fd554310c96",
   "metadata": {},
   "outputs": [
    {
     "data": {
      "text/plain": [
       "'nhy'"
      ]
     },
     "execution_count": 61,
     "metadata": {},
     "output_type": "execute_result"
    }
   ],
   "source": [
    "s[5::-2]"
   ]
  },
  {
   "cell_type": "code",
   "execution_count": 62,
   "id": "3511b72f-3ffd-464d-9051-8675421fb476",
   "metadata": {},
   "outputs": [
    {
     "data": {
      "text/plain": [
       "''"
      ]
     },
     "execution_count": 62,
     "metadata": {},
     "output_type": "execute_result"
    }
   ],
   "source": [
    "s[5:10:-2]"
   ]
  },
  {
   "cell_type": "code",
   "execution_count": 63,
   "id": "03ac0b4a-1d5a-4e5e-a2f7-f4d2608c1f42",
   "metadata": {},
   "outputs": [
    {
     "data": {
      "text/plain": [
       "''"
      ]
     },
     "execution_count": 63,
     "metadata": {},
     "output_type": "execute_result"
    }
   ],
   "source": [
    "s[10:5:2]"
   ]
  },
  {
   "cell_type": "code",
   "execution_count": 64,
   "id": "b053f234-4c5e-4e84-aa5c-1e88cabde4ee",
   "metadata": {},
   "outputs": [
    {
     "data": {
      "text/plain": [
       "'cec tdrfnhy'"
      ]
     },
     "execution_count": 64,
     "metadata": {},
     "output_type": "execute_result"
    }
   ],
   "source": [
    "s[-2::-2]"
   ]
  },
  {
   "cell_type": "markdown",
   "id": "29deed91-d77f-496d-b94e-8bfe854fc1a8",
   "metadata": {},
   "source": [
    "## String Operations:-"
   ]
  },
  {
   "cell_type": "code",
   "execution_count": 66,
   "id": "ae938f35-6b7b-4da8-8575-cc6561c9df84",
   "metadata": {},
   "outputs": [
    {
     "data": {
      "text/plain": [
       "15"
      ]
     },
     "execution_count": 66,
     "metadata": {},
     "output_type": "execute_result"
    }
   ],
   "source": [
    "s='python for Data'\n",
    "len(s)"
   ]
  },
  {
   "cell_type": "code",
   "execution_count": null,
   "id": "6c2182ad-adb0-496e-9241-cd381867658c",
   "metadata": {},
   "outputs": [],
   "source": []
  },
  {
   "cell_type": "code",
   "execution_count": null,
   "id": "09be83f7-85d8-4da9-8422-f1fe6149bfba",
   "metadata": {},
   "outputs": [],
   "source": [
    "s."
   ]
  },
  {
   "cell_type": "code",
   "execution_count": 71,
   "id": "0ef59a83-9b1d-491b-87fd-90acf635ec4c",
   "metadata": {},
   "outputs": [
    {
     "data": {
      "text/plain": [
       "'Tissues'"
      ]
     },
     "execution_count": 71,
     "metadata": {},
     "output_type": "execute_result"
    }
   ],
   "source": [
    "s.capitalize()"
   ]
  },
  {
   "cell_type": "code",
   "execution_count": 81,
   "id": "80aa5294-8125-480c-bde2-bb6d65fc854e",
   "metadata": {},
   "outputs": [
    {
     "data": {
      "text/plain": [
       "'Python for data science'"
      ]
     },
     "execution_count": 81,
     "metadata": {},
     "output_type": "execute_result"
    }
   ],
   "source": [
    "s=\"python for data science\"\n",
    "s.capitalize()\n"
   ]
  },
  {
   "cell_type": "code",
   "execution_count": null,
   "id": "58006055-d9ee-45a9-84c2-619d4125ab07",
   "metadata": {},
   "outputs": [],
   "source": []
  },
  {
   "cell_type": "markdown",
   "id": "39463665-535b-442b-9406-6aebd742fffb",
   "metadata": {},
   "source": [
    "## Replacing:-"
   ]
  },
  {
   "cell_type": "code",
   "execution_count": 84,
   "id": "2c96d2c6-105f-4dfc-bcce-a69bc239fcb5",
   "metadata": {},
   "outputs": [],
   "source": [
    "s=\"python for data science python python python\"\n",
    "p=s.replace(\"py\",\"se\")"
   ]
  },
  {
   "cell_type": "code",
   "execution_count": null,
   "id": "e040725f-23e0-4816-9686-346b740d036d",
   "metadata": {},
   "outputs": [],
   "source": [
    "# split the data"
   ]
  },
  {
   "cell_type": "code",
   "execution_count": 85,
   "id": "5f6c8ef7-ff01-42aa-93fe-f57ae716de7d",
   "metadata": {},
   "outputs": [
    {
     "data": {
      "text/plain": [
       "['python', 'for', 'data', 'science']"
      ]
     },
     "execution_count": 85,
     "metadata": {},
     "output_type": "execute_result"
    }
   ],
   "source": [
    "s='python for data science'\n",
    "s=s.split()\n",
    "s"
   ]
  },
  {
   "cell_type": "code",
   "execution_count": 86,
   "id": "7b5ab484-cea8-494a-a7eb-e9bf7c270998",
   "metadata": {},
   "outputs": [],
   "source": [
    "#join the data:-"
   ]
  },
  {
   "cell_type": "code",
   "execution_count": 87,
   "id": "64a4c9e8-dfcd-4e5a-953f-e5c058384aee",
   "metadata": {},
   "outputs": [
    {
     "data": {
      "text/plain": [
       "'python for data science'"
      ]
     },
     "execution_count": 87,
     "metadata": {},
     "output_type": "execute_result"
    }
   ],
   "source": [
    "s=' '.join(s)\n",
    "s"
   ]
  },
  {
   "cell_type": "raw",
   "id": "a8579c12-ee3a-4d36-a3c2-490b3a5fb07f",
   "metadata": {},
   "source": [
    "# strings are immutable,cannot modify"
   ]
  }
 ],
 "metadata": {
  "kernelspec": {
   "display_name": "Python 3 (ipykernel)",
   "language": "python",
   "name": "python3"
  },
  "language_info": {
   "codemirror_mode": {
    "name": "ipython",
    "version": 3
   },
   "file_extension": ".py",
   "mimetype": "text/x-python",
   "name": "python",
   "nbconvert_exporter": "python",
   "pygments_lexer": "ipython3",
   "version": "3.11.7"
  }
 },
 "nbformat": 4,
 "nbformat_minor": 5
}
